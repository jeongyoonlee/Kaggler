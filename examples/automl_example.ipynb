{
 "cells": [
  {
   "attachments": {},
   "cell_type": "markdown",
   "id": "14bb155c",
   "metadata": {
    "nterop": {
     "id": "14"
    }
   },
   "source": [
    "# AutoML Example"
   ]
  },
  {
   "cell_type": "code",
   "execution_count": 1,
   "id": "910dca6c",
   "metadata": {
    "ExecuteTime": {
     "end_time": "2022-03-06T05:32:47.431921Z",
     "start_time": "2022-03-06T05:32:47.395390Z"
    },
    "nterop": {
     "id": "1"
    }
   },
   "outputs": [],
   "source": [
    "%reload_ext autoreload\n",
    "%autoreload 2\n",
    "%matplotlib inline"
   ]
  },
  {
   "cell_type": "code",
   "execution_count": 2,
   "id": "a67cbbc9",
   "metadata": {
    "ExecuteTime": {
     "end_time": "2022-03-06T05:32:48.645109Z",
     "start_time": "2022-03-06T05:32:47.433620Z"
    },
    "nterop": {
     "id": "2"
    }
   },
   "outputs": [],
   "source": [
    "import matplotlib\n",
    "from matplotlib import pyplot as plt\n",
    "import numpy as np\n",
    "import pandas as pd\n",
    "import sklearn\n",
    "from sklearn.datasets import make_classification, make_regression\n",
    "from sklearn.model_selection import train_test_split\n",
    "from warnings import simplefilter\n",
    "\n",
    "import kaggler\n",
    "from kaggler.metrics import auc, mae, rmse, plot_curve\n",
    "from kaggler.model import AutoLGB, AutoXGB"
   ]
  },
  {
   "cell_type": "code",
   "execution_count": 3,
   "id": "afc0012a",
   "metadata": {
    "ExecuteTime": {
     "end_time": "2022-03-06T05:32:48.696082Z",
     "start_time": "2022-03-06T05:32:48.647183Z"
    },
    "nterop": {
     "id": "3"
    }
   },
   "outputs": [
    {
     "name": "stdout",
     "output_type": "stream",
     "text": [
      "matplotlib: 3.5.1\n",
      "     numpy: 1.21.5\n",
      "    pandas: 1.2.4\n",
      "   sklearn: 0.24.2\n",
      "   kaggler: 0.9.13\n"
     ]
    }
   ],
   "source": [
    "print(f\"matplotlib: {matplotlib.__version__}\")\n",
    "print(f\"     numpy: {np.__version__}\")\n",
    "print(f\"    pandas: {pd.__version__}\")\n",
    "print(f\"   sklearn: {sklearn.__version__}\")\n",
    "print(f\"   kaggler: {kaggler.__version__}\")"
   ]
  },
  {
   "cell_type": "code",
   "execution_count": 4,
   "id": "d2f5f4e8",
   "metadata": {
    "ExecuteTime": {
     "end_time": "2022-03-06T05:32:48.858487Z",
     "start_time": "2022-03-06T05:32:48.697869Z"
    },
    "nterop": {
     "id": "4"
    }
   },
   "outputs": [],
   "source": [
    "plt.style.use(\"fivethirtyeight\")\n",
    "simplefilter(\"ignore\")\n",
    "\n",
    "RANDOM_SEED = 42\n",
    "N_OBS = 1000\n",
    "N_FEATURE = 10\n",
    "N_IMP_FEATURE = 2"
   ]
  },
  {
   "attachments": {},
   "cell_type": "markdown",
   "id": "fcd3dfe2",
   "metadata": {
    "nterop": {
     "id": "15"
    }
   },
   "source": [
    "## Classification with AutoLGB"
   ]
  },
  {
   "cell_type": "code",
   "execution_count": 5,
   "id": "4f8d4a80",
   "metadata": {
    "ExecuteTime": {
     "end_time": "2022-03-06T05:32:49.009941Z",
     "start_time": "2022-03-06T05:32:48.860131Z"
    },
    "nterop": {
     "id": "5"
    }
   },
   "outputs": [
    {
     "name": "stdout",
     "output_type": "stream",
     "text": [
      "X dim: (1000, 10), y dim: (1000,)\n"
     ]
    }
   ],
   "source": [
    "X, y = make_classification(\n",
    "    n_samples=N_OBS,\n",
    "    n_features=N_FEATURE,\n",
    "    n_informative=N_IMP_FEATURE,\n",
    "    random_state=RANDOM_SEED,\n",
    ")\n",
    "X = pd.DataFrame(X, columns=[\"x{}\".format(i) for i in range(X.shape[1])])\n",
    "y = pd.Series(y)\n",
    "print(f\"X dim: {X.shape}, y dim: {y.shape}\")"
   ]
  },
  {
   "cell_type": "code",
   "execution_count": 6,
   "id": "3b3374d9",
   "metadata": {
    "ExecuteTime": {
     "end_time": "2022-03-06T05:32:49.226779Z",
     "start_time": "2022-03-06T05:32:49.011516Z"
    },
    "nterop": {
     "id": "6"
    }
   },
   "outputs": [],
   "source": [
    "X_trn, X_tst, y_trn, y_tst = train_test_split(\n",
    "    X, y, test_size=0.2, random_state=RANDOM_SEED\n",
    ")"
   ]
  },
  {
   "cell_type": "code",
   "execution_count": 7,
   "id": "de9b786a",
   "metadata": {
    "ExecuteTime": {
     "end_time": "2022-03-06T05:32:55.041113Z",
     "start_time": "2022-03-06T05:32:49.228411Z"
    },
    "nterop": {
     "id": "7"
    }
   },
   "outputs": [
    {
     "name": "stdout",
     "output_type": "stream",
     "text": [
      "100%|██████████| 10/10 [00:00<00:00, 10.97trial/s, best loss: -0.9498742928975488]\n",
      "100%|██████████| 100/100 [00:04<00:00, 21.28trial/s, best loss: -0.95953125]\n",
      "AUC (LGB): 0.9437\n"
     ]
    }
   ],
   "source": [
    "model = AutoLGB(objective=\"binary\", metric=\"auc\")\n",
    "model.tune(X_trn, y_trn)\n",
    "model.fit(X_trn, y_trn)\n",
    "p = model.predict(X_tst)\n",
    "print(f\"AUC (LGB): {auc(y_tst, p):.4f}\")"
   ]
  },
  {
   "cell_type": "code",
   "execution_count": 8,
   "id": "90842dd7",
   "metadata": {
    "ExecuteTime": {
     "end_time": "2022-03-06T05:32:55.106533Z",
     "start_time": "2022-03-06T05:32:55.043396Z"
    },
    "nterop": {
     "id": "8"
    }
   },
   "outputs": [
    {
     "name": "stdout",
     "output_type": "stream",
     "text": [
      "10 features out of 10 features selected: ['x6', 'x8', 'x0', 'x2', 'x9', 'x5', 'x3', 'x7', 'x4', 'x1']\n"
     ]
    }
   ],
   "source": [
    "print(f\"{len(model.features)} features out of {N_FEATURE} features selected: {model.features}\")"
   ]
  },
  {
   "cell_type": "code",
   "execution_count": 9,
   "id": "95a76fb5",
   "metadata": {
    "ExecuteTime": {
     "end_time": "2022-03-06T05:32:55.405977Z",
     "start_time": "2022-03-06T05:32:55.109183Z"
    },
    "nterop": {
     "id": "9"
    }
   },
   "outputs": [
    {
     "data": {
      "text/plain": [
       "{'bagging_freq': 1,\n",
       " 'verbosity': -1,\n",
       " 'seed': 42,\n",
       " 'num_threads': -1,\n",
       " 'feature_pre_filter': False,\n",
       " 'objective': 'binary',\n",
       " 'metric': 'auc',\n",
       " 'boosting': 'gbdt',\n",
       " 'bagging_fraction': 0.9,\n",
       " 'feature_fraction': 0.9,\n",
       " 'lambda_l1': 0.1,\n",
       " 'lambda_l2': 1,\n",
       " 'learning_rate': 0.11371927176320622,\n",
       " 'max_depth': -1,\n",
       " 'min_child_samples': 25,\n",
       " 'num_leaves': 255}"
      ]
     },
     "execution_count": 9,
     "metadata": {
      "nterop": {
       "id": "16"
      }
     },
     "output_type": "execute_result"
    }
   ],
   "source": [
    "model.params"
   ]
  },
  {
   "cell_type": "code",
   "execution_count": 10,
   "id": "640fa2f7",
   "metadata": {
    "ExecuteTime": {
     "end_time": "2022-03-06T05:32:55.831369Z",
     "start_time": "2022-03-06T05:32:55.407892Z"
    },
    "nterop": {
     "id": "11"
    }
   },
   "outputs": [
    {
     "data": {
      "image/png": "[encoded data removed]",
      "text/plain": [
       "<Figure size 1152x576 with 2 Axes>"
      ]
     },
     "metadata": {
      "nterop": {
       "id": "17"
      }
     },
     "output_type": "display_data"
    }
   ],
   "source": [
    "plt.figure(figsize=(16, 8))\n",
    "plt.subplot(1, 2, 1)\n",
    "plot_curve(y_tst, p, kind=\"roc\")\n",
    "plt.subplot(1, 2, 2)\n",
    "plot_curve(y_tst, p, kind=\"pr\")"
   ]
  },
  {
   "attachments": {},
   "cell_type": "markdown",
   "id": "ea371d24",
   "metadata": {
    "nterop": {
     "id": "13"
    }
   },
   "source": [
    "## Regression with AutoXGB"
   ]
  },
  {
   "cell_type": "code",
   "execution_count": 11,
   "id": "7f0fa543",
   "metadata": {
    "ExecuteTime": {
     "end_time": "2022-03-06T05:32:55.920829Z",
     "start_time": "2022-03-06T05:32:55.833069Z"
    },
    "nterop": {
     "id": "18"
    }
   },
   "outputs": [
    {
     "name": "stdout",
     "output_type": "stream",
     "text": [
      "X dim: (1000, 10), y dim: (1000,)\n"
     ]
    }
   ],
   "source": [
    "X, y = make_regression(\n",
    "    n_samples=N_OBS,\n",
    "    n_features=N_FEATURE,\n",
    "    n_informative=N_IMP_FEATURE,\n",
    "    random_state=RANDOM_SEED,\n",
    ")\n",
    "X = pd.DataFrame(X, columns=[\"x{}\".format(i) for i in range(X.shape[1])])\n",
    "y = pd.Series(y)\n",
    "print(f\"X dim: {X.shape}, y dim: {y.shape}\")"
   ]
  },
  {
   "cell_type": "code",
   "execution_count": 12,
   "id": "ad91525f",
   "metadata": {
    "ExecuteTime": {
     "end_time": "2022-03-06T05:34:57.457330Z",
     "start_time": "2022-03-06T05:32:55.922529Z"
    },
    "nterop": {
     "id": "19"
    }
   },
   "outputs": [
    {
     "name": "stdout",
     "output_type": "stream",
     "text": [
      "100%|██████████| 10/10 [00:17<00:00,  1.70s/trial, best loss: 0.265587]\n",
      "100%|██████████| 100/100 [01:44<00:00,  1.04s/trial, best loss: 0.249275]\n",
      "RMSE (XGB): 0.2955\n"
     ]
    }
   ],
   "source": [
    "model = AutoXGB(objective=\"reg:squarederror\", metric=\"rmse\")\n",
    "model.tune(X_trn, y_trn)\n",
    "model.fit(X_trn, y_trn)\n",
    "p = model.predict(X_tst)\n",
    "print(f\"RMSE (XGB): {rmse(y_tst, p):.4f}\")"
   ]
  },
  {
   "cell_type": "code",
   "execution_count": 13,
   "id": "1037a6d0",
   "metadata": {
    "ExecuteTime": {
     "end_time": "2022-03-06T05:34:57.538205Z",
     "start_time": "2022-03-06T05:34:57.459097Z"
    },
    "nterop": {
     "id": "20"
    }
   },
   "outputs": [
    {
     "name": "stdout",
     "output_type": "stream",
     "text": [
      "10 features out of 10 features selected: ['x6', 'x2', 'x8', 'x1', 'x9', 'x5', 'x0', 'x4', 'x7', 'x3']\n"
     ]
    }
   ],
   "source": [
    "print(f\"{len(model.features)} features out of {N_FEATURE} features selected: {model.features}\")"
   ]
  },
  {
   "cell_type": "code",
   "execution_count": 14,
   "id": "0dc2e44d",
   "metadata": {
    "ExecuteTime": {
     "end_time": "2022-03-06T05:34:57.772323Z",
     "start_time": "2022-03-06T05:34:57.539772Z"
    },
    "nterop": {
     "id": "21"
    }
   },
   "outputs": [
    {
     "data": {
      "text/plain": [
       "{'random_state': 42,\n",
       " 'n_jobs': -1,\n",
       " 'objective': 'reg:squarederror',\n",
       " 'booster': 'gbtree',\n",
       " 'colsample_bytree': 0.7000000000000001,\n",
       " 'learning_rate': 0.2140971222961297,\n",
       " 'max_depth': 6,\n",
       " 'min_child_weight': 10,\n",
       " 'subsample': 0.7000000000000001}"
      ]
     },
     "execution_count": 14,
     "metadata": {
      "nterop": {
       "id": "22"
      }
     },
     "output_type": "execute_result"
    }
   ],
   "source": [
    "model.params"
   ]
  },
  {
   "cell_type": "code",
   "execution_count": null,
   "id": "e8c8be3c",
   "metadata": {
    "nterop": {
     "id": "23"
    }
   },
   "outputs": [],
   "source": []
  }
 ],
 "metadata": {
  "hide_input": false,
  "kernelspec": {
   "display_name": "Python 3.7 (Kaggler)",
   "language": "python",
   "name": "kaggler"
  },
  "language_info": {
   "codemirror_mode": {
    "name": "ipython",
    "version": 3
   },
   "file_extension": ".py",
   "mimetype": "text/x-python",
   "name": "python",
   "nbconvert_exporter": "python",
   "pygments_lexer": "ipython3",
   "version": "3.7.7"
  },
  "nterop": {
   "seedId": "23"
  },
  "toc": {
   "base_numbering": 1,
   "nav_menu": {},
   "number_sections": true,
   "sideBar": true,
   "skip_h1_title": false,
   "title_cell": "Table of Contents",
   "title_sidebar": "Contents",
   "toc_cell": false,
   "toc_position": {},
   "toc_section_display": true,
   "toc_window_display": false
  }
 },
 "nbformat": 4,
 "nbformat_minor": 5
}
